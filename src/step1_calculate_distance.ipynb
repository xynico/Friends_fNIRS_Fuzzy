{
 "cells": [
  {
   "cell_type": "code",
   "execution_count": 1,
   "metadata": {},
   "outputs": [
    {
     "name": "stderr",
     "output_type": "stream",
     "text": [
      "comet_ml is installed but `COMET_API_KEY` is not set.\n"
     ]
    },
    {
     "name": "stdout",
     "output_type": "stream",
     "text": [
      "The pipeline is not setup, will use identity transform\n",
      "The pipeline is not setup, will use identity transform\n",
      "The pipeline is not setup, will use identity transform\n",
      "The pipeline is not setup, will use identity transform\n"
     ]
    }
   ],
   "source": [
    "from shallowmind.src.model import ModelInterface\n",
    "from shallowmind.src.data import DataInterface\n",
    "from shallowmind.api.infer import prepare_inference\n",
    "import pandas as pd\n",
    "import torch\n",
    "from tqdm import tqdm\n",
    "import pickle\n",
    "\n",
    "ckpt = '/home/xiaowjia/data/Friends_fNIRS/work_dir/AFTF-ds=PictureClass_l-d=1-nh=19-r=10-bs=128-ls=0.015-label=hand/ckpts/exp_name=AFTF-ds=PictureClass_l-d=1-nh=19-r=10-bs=128-ls=0.015-label=hand-cfg=FuzzyTramsformer_ALL_num_rules10_num_heads19_dataset_name=PictureClass_label=hand_base_lr=1.5e-2_depth=1_batch_size=128-bs=128-seed=42-val_f1_score=0.7414.ckpt'\n",
    "config = '/home/xiaowjia/data/Friends_fNIRS/work_dir/AFTF-ds=PictureClass_l-d=1-nh=19-r=10-bs=128-ls=0.015-label=hand/FuzzyTramsformer_ALL_num_rules10_num_heads19_dataset_name=PictureClass_label=hand_base_lr=1.5e-2_depth=1_batch_size=128.py'\n",
    "\n",
    "\n",
    "data_module, model = prepare_inference(config, ckpt)\n",
    "data_module.setup()\n",
    "test_loader = data_module.test_dataloader()\n",
    "data_table = test_loader.dataset.data_table\n",
    "model = model.eval()"
   ]
  },
  {
   "cell_type": "code",
   "execution_count": 2,
   "metadata": {},
   "outputs": [
    {
     "name": "stderr",
     "output_type": "stream",
     "text": [
      "100%|██████████| 8168/8168 [01:16<00:00, 107.03it/s]\n"
     ]
    }
   ],
   "source": [
    "# use cuda\n",
    "device = torch.device('cuda' if torch.cuda.is_available() else 'cpu')\n",
    "model = model.to(device)\n",
    "embeddings = {}\n",
    "data_table = test_loader.dataset.data_index_table\n",
    "for irow, row in tqdm(data_table.iterrows(), total=len(data_table)):\n",
    "    hand = row['hand']\n",
    "    relationship_label = row['relationship_label']\n",
    "    emotion_label = row['emotion_label']\n",
    "    pair_idx = row['pair_idx']\n",
    "    subj_id = f\"{emotion_label}_{pair_idx}\"\n",
    "    data = {'seq': []}\n",
    "    trial_idxes1 = int(row['trial_idxes1'])\n",
    "    trial_idxes2 = int(row['trial_idxes2'])\n",
    "    d = test_loader.dataset.__getitem__(irow)\n",
    "    # data['seq'] = torch.stack(data['seq'])\n",
    "    with torch.no_grad():\n",
    "        latent = model.model.forward_encoder(d[0]['seq'].to(device)).cpu().numpy()\n",
    "        # latent = model.model.cl_projector(latent)\n",
    "    embeddings.setdefault(hand, {}).setdefault(relationship_label, {}).setdefault(emotion_label, {}).setdefault(pair_idx, {}).setdefault(subj_id, []).append(latent)\n",
    "\n",
    "with open('../output/embeddings2.pkl', 'wb') as f:\n",
    "    pickle.dump(embeddings, f)"
   ]
  },
  {
   "cell_type": "code",
   "execution_count": 3,
   "metadata": {},
   "outputs": [
    {
     "name": "stderr",
     "output_type": "stream",
     "text": [
      "1-0-2: 100%|██████████| 16/16 [00:01<00:00, 13.17it/s]\n",
      "1-0-3: 100%|██████████| 16/16 [00:01<00:00, 10.36it/s]\n",
      "1-1-2: 100%|██████████| 12/12 [00:00<00:00, 17.69it/s]\n",
      "1-1-3: 100%|██████████| 12/12 [00:00<00:00, 18.09it/s]\n",
      "2-0-2: 100%|██████████| 18/18 [00:00<00:00, 18.68it/s]\n",
      "2-0-3: 100%|██████████| 18/18 [00:01<00:00, 15.79it/s]\n",
      "2-1-2: 100%|██████████| 13/13 [00:00<00:00, 27.23it/s]\n",
      "2-1-3: 100%|██████████| 13/13 [00:00<00:00, 21.11it/s]\n"
     ]
    }
   ],
   "source": [
    "#calculate Euclidean distance\n",
    "import numpy as np\n",
    "# embeddings = pickle.load(open('embeddings.pkl', 'rb'))\n",
    "\n",
    "def dist(a, b):\n",
    "    # return np.linalg.norm(a-b)\n",
    "    # cosine distance\n",
    "    return 1 - np.dot(a, b) / (np.linalg.norm(a) * np.linalg.norm(b))\n",
    "\n",
    "# embedding_dist = []\n",
    "# for hand, hand_dict in embeddings.items():\n",
    "#     for relationship_label, relationship_dict in hand_dict.items():\n",
    "#         for emotion_label, emotion_dict in relationship_dict.items():\n",
    "#             for pair_idx, pair_dict in tqdm(emotion_dict.items(), total=len(emotion_dict), desc=f'{hand}-{relationship_label}-{emotion_label}'):\n",
    "                \n",
    "#                 distance_matrix = np.zeros((len(pair_dict[0][0]), len(pair_dict[1][0])))\n",
    "#                 for i, e1 in enumerate(pair_dict[0][0]):\n",
    "#                     for j, e2 in enumerate(pair_dict[1][0]):\n",
    "#                         distance_matrix[i,j] = dist(e1, e2)\n",
    "#                 avg_dist = np.mean(distance_matrix)\n",
    "#                 embedding_dist.append([str(hand), str(relationship_label), str(emotion_label), str(pair_idx), avg_dist])\n",
    "embedding_dist = []\n",
    "for hand, hand_dict in embeddings.items():\n",
    "    for relationship_label, relationship_dict in hand_dict.items():\n",
    "        for emotion_label, emotion_dict in relationship_dict.items():\n",
    "            for pair_idx, pair_dict in tqdm(emotion_dict.items(), total=len(emotion_dict), desc=f'{hand}-{relationship_label}-{emotion_label}'):\n",
    "                \n",
    "                pair_dict = np.stack(pair_dict[list(pair_dict.keys())[0]])\n",
    "                distance_matrix = np.zeros((pair_dict.shape[0], pair_dict.shape[0]))\n",
    "                for i, e1 in enumerate(pair_dict):\n",
    "                    for j, e2 in enumerate(pair_dict):\n",
    "                        distance_matrix[i,j] = dist(e1[0], e2[1])\n",
    "                avg_dist = np.mean(distance_matrix)\n",
    "                embedding_dist.append([str(hand), str(relationship_label), str(emotion_label), str(pair_idx), avg_dist])\n",
    "embedding_dist = pd.DataFrame(embedding_dist, columns=['hand', 'relationship_label', 'emotion_label', 'pair_idx', 'avg_dist'])\n"
   ]
  },
  {
   "cell_type": "code",
   "execution_count": 4,
   "metadata": {},
   "outputs": [
    {
     "name": "stdout",
     "output_type": "stream",
     "text": [
      "               T        dof alternative     p-val          CI95%   cohen-d  \\\n",
      "T-test  0.734829  20.458547   two-sided  0.470783  [-0.01, 0.03]  0.297528   \n",
      "\n",
      "         BF10     power  \n",
      "T-test  0.449  0.109896  \n"
     ]
    }
   ],
   "source": [
    "import pingouin as pg\n",
    "x = embedding_dist.loc[(embedding_dist['emotion_label']=='2') & (embedding_dist['relationship_label']=='1') & (embedding_dist['hand']=='1')]['avg_dist']\n",
    "y = embedding_dist.loc[(embedding_dist['emotion_label']=='2') & (embedding_dist['relationship_label']=='1') & (embedding_dist['hand']=='2')]['avg_dist']\n",
    "stat = pg.ttest(x, y)\n",
    "print(stat)"
   ]
  },
  {
   "cell_type": "code",
   "execution_count": 53,
   "metadata": {},
   "outputs": [
    {
     "data": {
      "image/png": "[encoded data removed]",
      "text/plain": [
       "<Figure size 1000x500 with 2 Axes>"
      ]
     },
     "metadata": {},
     "output_type": "display_data"
    }
   ],
   "source": [
    "# stats\n",
    "import pingouin as pg\n",
    "import seaborn as sns\n",
    "import matplotlib.pyplot as plt\n",
    "\n",
    "# plot\n",
    "fig = plt.figure(figsize=(10, 5))\n",
    "ax = plt.subplot(121)\n",
    "sns.barplot(x='relationship_label', y='avg_dist', hue='hand', data=embedding_dist.loc[embedding_dist['emotion_label']=='2'], ax=ax)\n",
    "ax = plt.subplot(122)\n",
    "sns.barplot(x='relationship_label', y='avg_dist', hue='hand', data=embedding_dist.loc[embedding_dist['emotion_label']=='3'], ax=ax)\n",
    "plt.show()\n"
   ]
  },
  {
   "cell_type": "code",
   "execution_count": 48,
   "metadata": {},
   "outputs": [
    {
     "data": {
      "text/html": [
       "<div>\n",
       "<style scoped>\n",
       "    .dataframe tbody tr th:only-of-type {\n",
       "        vertical-align: middle;\n",
       "    }\n",
       "\n",
       "    .dataframe tbody tr th {\n",
       "        vertical-align: top;\n",
       "    }\n",
       "\n",
       "    .dataframe thead th {\n",
       "        text-align: right;\n",
       "    }\n",
       "</style>\n",
       "<table border=\"1\" class=\"dataframe\">\n",
       "  <thead>\n",
       "    <tr style=\"text-align: right;\">\n",
       "      <th></th>\n",
       "      <th>hand</th>\n",
       "      <th>relationship_label</th>\n",
       "      <th>emotion_label</th>\n",
       "      <th>pair_idx</th>\n",
       "      <th>avg_dist</th>\n",
       "    </tr>\n",
       "  </thead>\n",
       "  <tbody>\n",
       "  </tbody>\n",
       "</table>\n",
       "</div>"
      ],
      "text/plain": [
       "Empty DataFrame\n",
       "Columns: [hand, relationship_label, emotion_label, pair_idx, avg_dist]\n",
       "Index: []"
      ]
     },
     "execution_count": 48,
     "metadata": {},
     "output_type": "execute_result"
    }
   ],
   "source": [
    "embedding_dist"
   ]
  },
  {
   "cell_type": "code",
   "execution_count": null,
   "metadata": {},
   "outputs": [],
   "source": [
    "embedding_dist['subject'] = embedding_dist.apply(lambda x: f\"{x['relationship_label']}_{x['pair_idx'].split('-')[-1]}\", axis=1)\n",
    "\n",
    "print(embedding_dist)\n",
    "\n",
    "pg.mixed_anova(\n",
    "    data=embedding_dist.loc[embedding_dist['emotion_label']=='2'], \n",
    "    dv='avg_dist', \n",
    "    within='hand',\n",
    "    between='relationship_label',\n",
    "    subject='subject',\n",
    "    correction=True,\n",
    ")"
   ]
  },
  {
   "cell_type": "code",
   "execution_count": 55,
   "metadata": {},
   "outputs": [
    {
     "name": "stderr",
     "output_type": "stream",
     "text": [
      "  0%|          | 0/100 [00:00<?, ?it/s]\n"
     ]
    },
    {
     "ename": "KeyError",
     "evalue": "0",
     "output_type": "error",
     "traceback": [
      "\u001b[0;31m---------------------------------------------------------------------------\u001b[0m",
      "\u001b[0;31mKeyError\u001b[0m                                  Traceback (most recent call last)",
      "Cell \u001b[0;32mIn[55], line 36\u001b[0m\n\u001b[1;32m     33\u001b[0m \u001b[38;5;28;01mfor\u001b[39;00m pair_idx, pair_dict \u001b[38;5;129;01min\u001b[39;00m emotion_dict\u001b[38;5;241m.\u001b[39mitems():\n\u001b[1;32m     35\u001b[0m     distance_matrix \u001b[38;5;241m=\u001b[39m np\u001b[38;5;241m.\u001b[39mzeros((n_samples, n_samples))\n\u001b[0;32m---> 36\u001b[0m     random_idxes1 \u001b[38;5;241m=\u001b[39m np\u001b[38;5;241m.\u001b[39mrandom\u001b[38;5;241m.\u001b[39mchoice(\u001b[38;5;28mrange\u001b[39m(\u001b[38;5;28mlen\u001b[39m(\u001b[43mpair_dict\u001b[49m\u001b[43m[\u001b[49m\u001b[38;5;241;43m0\u001b[39;49m\u001b[43m]\u001b[49m[\u001b[38;5;241m0\u001b[39m])), size\u001b[38;5;241m=\u001b[39mn_samples, replace\u001b[38;5;241m=\u001b[39m\u001b[38;5;28;01mFalse\u001b[39;00m)\n\u001b[1;32m     37\u001b[0m     random_idxes2 \u001b[38;5;241m=\u001b[39m np\u001b[38;5;241m.\u001b[39mrandom\u001b[38;5;241m.\u001b[39mchoice(\u001b[38;5;28mrange\u001b[39m(\u001b[38;5;28mlen\u001b[39m(pair_dict[\u001b[38;5;241m1\u001b[39m][\u001b[38;5;241m0\u001b[39m])), size\u001b[38;5;241m=\u001b[39mn_samples, replace\u001b[38;5;241m=\u001b[39m\u001b[38;5;28;01mFalse\u001b[39;00m)\n\u001b[1;32m     38\u001b[0m     \u001b[38;5;28;01mfor\u001b[39;00m i, e1 \u001b[38;5;129;01min\u001b[39;00m \u001b[38;5;28menumerate\u001b[39m(pair_dict[\u001b[38;5;241m0\u001b[39m][\u001b[38;5;241m0\u001b[39m][random_idxes1]):\n",
      "\u001b[0;31mKeyError\u001b[0m: 0"
     ]
    }
   ],
   "source": [
    "#calculate Euclidean distance\n",
    "import numpy as np\n",
    "import pingouin as pg\n",
    "import seaborn as sns\n",
    "import matplotlib.pyplot as plt\n",
    "\n",
    "# embeddings = pickle.load(open('embeddings.pkl', 'rb'))\n",
    "np.random.seed(42)\n",
    "def dist(a, b):\n",
    "    # return np.linalg.norm(a-b)\n",
    "    # cosine distance\n",
    "    return 1 - np.dot(a, b) / (np.linalg.norm(a) * np.linalg.norm(b))\n",
    "\n",
    "n_samples = 2\n",
    "n_repeat = 100\n",
    "\n",
    "stats_neg = []\n",
    "stats_neu = []\n",
    "\n",
    "p_relationship_neg = []\n",
    "p_hand_neg = []\n",
    "p_relationship_neu = []\n",
    "p_hand_neu = []\n",
    "p_interaction_neg = []\n",
    "p_interaction_neu = []\n",
    "p_hand_in_friend_neg = []\n",
    "\n",
    "for i_repeat in tqdm(range(n_repeat), total=n_repeat):\n",
    "    embedding_dist = []\n",
    "    for hand, hand_dict in embeddings.items():\n",
    "        for relationship_label, relationship_dict in hand_dict.items():\n",
    "            for emotion_label, emotion_dict in relationship_dict.items():\n",
    "                for pair_idx, pair_dict in emotion_dict.items():\n",
    "                    \n",
    "                    distance_matrix = np.zeros((n_samples, n_samples))\n",
    "                    random_idxes1 = np.random.choice(range(len(pair_dict[0][0])), size=n_samples, replace=False)\n",
    "                    random_idxes2 = np.random.choice(range(len(pair_dict[1][0])), size=n_samples, replace=False)\n",
    "                    for i, e1 in enumerate(pair_dict[0][0][random_idxes1]):\n",
    "                        for j, e2 in enumerate(pair_dict[1][0][random_idxes2]):\n",
    "                            distance_matrix[i,j] = dist(e1, e2)\n",
    "                    avg_dist = np.mean(distance_matrix)\n",
    "                    embedding_dist.append([str(hand), str(relationship_label), str(emotion_label), str(pair_idx), avg_dist])\n",
    "\n",
    "                    \n",
    "    embedding_dist = pd.DataFrame(embedding_dist, columns=['hand', 'relationship_label', 'emotion_label', 'pair_idx', 'avg_dist'])\n",
    "    embedding_dist.to_csv('embedding_dist.csv', index=False)\n",
    "    embedding_dist['subject'] = embedding_dist.apply(lambda x: f\"{x['relationship_label']}_{x['pair_idx'].split('-')[-1]}\", axis=1)\n",
    "    \n",
    "    stat = pg.mixed_anova(\n",
    "        data=embedding_dist.loc[embedding_dist['emotion_label']=='2'], \n",
    "        dv='avg_dist', \n",
    "        within='hand',\n",
    "        between='relationship_label',\n",
    "        subject='subject',\n",
    "        correction=True,\n",
    "    )      \n",
    "    \n",
    "    stats_neg.append(stat)\n",
    "    p_relationship_neg.append(stat['p-unc'][0])\n",
    "    p_hand_neg.append(stat['p-unc'][1])\n",
    "    p_interaction_neg.append(stat['p-unc'][2])\n",
    "\n",
    "    stat = pg.mixed_anova(\n",
    "        data=embedding_dist.loc[embedding_dist['emotion_label']=='3'], \n",
    "        dv='avg_dist', \n",
    "        within='hand',\n",
    "        between='relationship_label',\n",
    "        subject='subject',\n",
    "        correction=True,\n",
    "    )\n",
    "    stats_neu.append(stat)\n",
    "    p_relationship_neu.append(stat['p-unc'][0])\n",
    "    p_hand_neu.append(stat['p-unc'][1])\n",
    "    p_interaction_neu.append(stat['p-unc'][2])\n",
    "\n",
    "    # t-test of hand in relationship-label=1\n",
    "    x = embedding_dist.loc[(embedding_dist['emotion_label']=='2') & (embedding_dist['relationship_label']=='1') & (embedding_dist['hand']=='1')]['avg_dist']\n",
    "    y = embedding_dist.loc[(embedding_dist['emotion_label']=='2') & (embedding_dist['relationship_label']=='1') & (embedding_dist['hand']=='2')]['avg_dist']\n",
    "    stat = pg.ttest(x, y, paired=True, correction=True)\n",
    "    p_hand_in_friend_neg.append(stat['p-val'])\n",
    "\n",
    "# count how many times it is smaller than 0.05 \n",
    "print(\"p_relationship_neg\", 1-np.sum(np.array(p_relationship_neg)<0.05)/n_repeat)\n",
    "print(\"p_hand_neg\", 1-np.sum(np.array(p_hand_neg)<0.05)/n_repeat)\n",
    "print(\"p_interaction_neg\", 1-np.sum(np.array(p_interaction_neg)<0.05)/n_repeat)\n",
    "print(\"p_relationship_neu\", 1-np.sum(np.array(p_relationship_neu)<0.05)/n_repeat)\n",
    "print(\"p_hand_neu\", 1-np.sum(np.array(p_hand_neu)<0.05)/n_repeat)\n",
    "print(\"p_interaction_neu\", 1-np.sum(np.array(p_interaction_neu)<0.05)/n_repeat)\n",
    "print(\"p_hand_in_friend_neg\", 1-np.sum(np.array(p_hand_in_friend_neg)<0.05)/n_repeat)\n"
   ]
  },
  {
   "cell_type": "code",
   "execution_count": null,
   "metadata": {},
   "outputs": [],
   "source": [
    "# stats\n",
    "import pingouin as pg\n",
    "import seaborn as sns\n",
    "import matplotlib.pyplot as plt\n",
    "\n",
    "# plot\n",
    "fig = plt.figure(figsize=(6, 3))\n",
    "ax = plt.subplot(121)\n",
    "sns.barplot(x='relationship_label', y='avg_dist', hue='hand', data=embedding_dist.loc[embedding_dist['emotion_label']=='2'], ax=ax)\n",
    "ax = plt.subplot(122)\n",
    "sns.barplot(x='relationship_label', y='avg_dist', hue='hand', data=embedding_dist.loc[embedding_dist['emotion_label']=='3'], ax=ax)\n",
    "plt.show()"
   ]
  },
  {
   "cell_type": "code",
   "execution_count": null,
   "metadata": {},
   "outputs": [],
   "source": [
    "import umap.umap_ as umap\n",
    "embedding_data = []\n",
    "label = []\n",
    "for hand, hand_dict in embeddings.items():\n",
    "    for relationship_label, relationship_dict in hand_dict.items():\n",
    "        for emotion_label, emotion_dict in relationship_dict.items():\n",
    "            for pair_idx, pair_dict in emotion_dict.items():\n",
    "                pair_data = np.concatenate([pair_dict[0][0].numpy().mean(axis=0), pair_dict[1][0].numpy().mean(axis=0)], axis=0)\n",
    "                embedding_data.append(pair_data)\n",
    "                label.append(f'{hand}')\n",
    "embedding_data = np.stack(embedding_data)\n",
    "embedding_data = embedding_data - embedding_data.mean(axis=0)\n",
    "embedding_data = embedding_data / embedding_data.std(axis=0)\n",
    "reducer = umap.UMAP()\n",
    "embedding = reducer.fit_transform(embedding_data)\n",
    "embedding = pd.DataFrame(embedding, columns=['x', 'y'])\n",
    "embedding['label'] = label\n",
    "\n",
    "fig = plt.figure(figsize=(10, 10))\n",
    "sns.scatterplot(x='x', y='y', hue='label', data=embedding)\n",
    "plt.show()"
   ]
  }
 ],
 "metadata": {
  "kernelspec": {
   "display_name": "dl_pl",
   "language": "python",
   "name": "python3"
  },
  "language_info": {
   "codemirror_mode": {
    "name": "ipython",
    "version": 3
   },
   "file_extension": ".py",
   "mimetype": "text/x-python",
   "name": "python",
   "nbconvert_exporter": "python",
   "pygments_lexer": "ipython3",
   "version": "3.10.13"
  }
 },
 "nbformat": 4,
 "nbformat_minor": 2
}
