{
 "cells": [
  {
   "cell_type": "code",
   "execution_count": 1,
   "metadata": {},
   "outputs": [],
   "source": [
    "import pickle\n",
    "import os\n",
    "import numpy as np\n",
    "import pandas as pd\n",
    "import matplotlib.pyplot as plt\n",
    "import torch \n",
    "\n",
    "need_explain_data_path = '/projects/CIBCIGroup/00DataUploading/Liang/fuzzy_fnirs/Friends_fNIRS_Fuzzy/output/output_all.pkl'\n",
    "data_path = '/home/xiaowjia/data/Friends_fNIRS/data/step1_PPCS_0.01_0.2PictureClass_data.pkl'\n",
    "\n",
    "with open(data_path, 'rb') as f:\n",
    "    data = pickle.load(f)\n",
    "with open(need_explain_data_path, 'rb') as f:\n",
    "    output = pickle.load(f)\n",
    "\n",
    "all_atten = output['all_atten'].detach().numpy()\n",
    "embs = output['embs']\n",
    "res = output['res']\n",
    "correct_ind = output['correct_ind']\n",
    "converted_centers = torch.stack(output['converted_centers']).detach().numpy().squeeze()\n",
    "centers = output['centers'].detach().numpy()\n",
    "scale = output['scale']\n",
    "\n",
    "correct_atten = all_atten[correct_ind]\n",
    "correct_embs = embs[correct_ind]\n",
    "correct_res = res.iloc[correct_ind]\n",
    "\n",
    "\n",
    "print(all_atten.shape, embs.shape, res.shape, converted_centers.shape, centers.shape)\n",
    "print(correct_atten.shape, correct_embs.shape, correct_res.shape)"
   ]
  },
  {
   "cell_type": "code",
   "execution_count": null,
   "metadata": {},
   "outputs": [],
   "source": []
  },
  {
   "cell_type": "code",
   "execution_count": 23,
   "metadata": {},
   "outputs": [
    {
     "name": "stdout",
     "output_type": "stream",
     "text": [
      "   hand  relationship_label  emotion_label pair_idx  trial_idxes1  \\\n",
      "0     1                   0              2  1-0-002             6   \n",
      "1     1                   0              2  1-0-002             6   \n",
      "2     1                   0              2  1-0-002             6   \n",
      "3     1                   0              2  1-0-002             6   \n",
      "4     1                   0              2  1-0-002             6   \n",
      "\n",
      "   trial_idxes2 pred label  check  \n",
      "0             0    1     1   True  \n",
      "1             7    1     1   True  \n",
      "2            13    1     1   True  \n",
      "3            14    1     1   True  \n",
      "4            15    1     1   True  \n"
     ]
    }
   ],
   "source": [
    "print(correct_res.head())"
   ]
  },
  {
   "cell_type": "code",
   "execution_count": 25,
   "metadata": {},
   "outputs": [
    {
     "name": "stdout",
     "output_type": "stream",
     "text": [
      "(40, 95) (40, 95)\n"
     ]
    }
   ],
   "source": [
    "\n",
    "\n",
    "selected_ind = 0\n",
    "row = correct_res.iloc[selected_ind]\n",
    "hand = int(row['hand'])\n",
    "relationship_label = int(row['relationship_label'])\n",
    "emotion_label = int(row['emotion_label'])\n",
    "pair_idx = row['pair_idx']\n",
    "trial_idxes1 = int(row['trial_idxes1'])\n",
    "trial_idxes2 = int(row['trial_idxes2'])\n",
    "\n",
    "d1 = data[hand][relationship_label][emotion_label][pair_idx][0][trial_idxes1]\n",
    "d2 = data[hand][relationship_label][emotion_label][pair_idx][1][trial_idxes2]\n",
    "\n",
    "print(d1.shape, d2.shape)"
   ]
  }
 ],
 "metadata": {
  "kernelspec": {
   "display_name": "dl_pl",
   "language": "python",
   "name": "python3"
  },
  "language_info": {
   "codemirror_mode": {
    "name": "ipython",
    "version": 3
   },
   "file_extension": ".py",
   "mimetype": "text/x-python",
   "name": "python",
   "nbconvert_exporter": "python",
   "pygments_lexer": "ipython3",
   "version": "3.10.13"
  }
 },
 "nbformat": 4,
 "nbformat_minor": 2
}
